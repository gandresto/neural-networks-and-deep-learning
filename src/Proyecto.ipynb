{
 "cells": [
  {
   "cell_type": "markdown",
   "metadata": {},
   "source": [
    "# Proyecto 1\n",
    "\n",
    "## Introducción a las DNNs\n",
    "\n",
    "González Flores Andrés\n",
    "\n",
    "Para la base de MNIST, usar el acceso de las notas, calcular la precisión de una DNN bajo las condiciones:\n",
    "\n",
    "- 40 epochs\n",
    "- minibatch de 10\n",
    "- Learning rate de 0.1\n",
    "- Parámetro de regularización lambda de 5"
   ]
  },
  {
   "cell_type": "markdown",
   "metadata": {},
   "source": [
    "Importando módulos, cargando datos de validación y entrenamimento e inicializando hiperparámetros."
   ]
  },
  {
   "cell_type": "code",
   "execution_count": 2,
   "metadata": {},
   "outputs": [],
   "source": [
    "import mnist_loader\n",
    "import network2\n",
    "\n",
    "training_data, validation_data, test_data = mnist_loader.load_data_wrapper()\n",
    "\n",
    "epochs = 40\n",
    "minibatch = 10\n",
    "lr = 0.1\n",
    "lmbda = 5.0"
   ]
  },
  {
   "cell_type": "markdown",
   "metadata": {},
   "source": [
    "a) [798, 30, 10]"
   ]
  },
  {
   "cell_type": "code",
   "execution_count": null,
   "metadata": {},
   "outputs": [
    {
     "name": "stdout",
     "output_type": "stream",
     "text": [
      "Epoch 0 training complete\n",
      "Accuracy on evaluation data: 9286 / 10000\n",
      "\n",
      "Epoch 1 training complete\n",
      "Accuracy on evaluation data: 9411 / 10000\n",
      "\n",
      "Epoch 2 training complete\n",
      "Accuracy on evaluation data: 9449 / 10000\n",
      "\n"
     ]
    }
   ],
   "source": [
    "net = network2.Network([784, 30, 10])\n",
    "net.SGD(training_data, epochs,minibatch, lr, \n",
    "                        lmbda=lmbda, \n",
    "                        evaluation_data=validation_data, \n",
    "                        monitor_evaluation_accuracy=True)"
   ]
  },
  {
   "cell_type": "markdown",
   "metadata": {},
   "source": [
    "b) [798, 30, 20, 10]"
   ]
  },
  {
   "cell_type": "code",
   "execution_count": null,
   "metadata": {},
   "outputs": [],
   "source": [
    "net = network2.Network([798, 30, 20, 10])\n",
    "net.SGD(training_data, epochs,minibatch, lr, \n",
    "                        lmbda=lmbda, \n",
    "                        evaluation_data=validation_data, \n",
    "                        monitor_evaluation_accuracy=True)"
   ]
  },
  {
   "cell_type": "markdown",
   "metadata": {},
   "source": [
    "c) [798, 30, 20, 20, 10]"
   ]
  },
  {
   "cell_type": "code",
   "execution_count": null,
   "metadata": {},
   "outputs": [],
   "source": [
    "net = network2.Network([798, 30, 20, 20, 10])\n",
    "net.SGD(training_data, epochs,minibatch, lr, \n",
    "                        lmbda=lmbda, \n",
    "                        evaluation_data=validation_data, \n",
    "                        monitor_evaluation_accuracy=True)"
   ]
  },
  {
   "cell_type": "code",
   "execution_count": null,
   "metadata": {},
   "outputs": [],
   "source": []
  }
 ],
 "metadata": {
  "kernelspec": {
   "display_name": "Python 2",
   "language": "python",
   "name": "python2"
  },
  "language_info": {
   "codemirror_mode": {
    "name": "ipython",
    "version": 2
   },
   "file_extension": ".py",
   "mimetype": "text/x-python",
   "name": "python",
   "nbconvert_exporter": "python",
   "pygments_lexer": "ipython2",
   "version": "2.7.17"
  }
 },
 "nbformat": 4,
 "nbformat_minor": 2
}
